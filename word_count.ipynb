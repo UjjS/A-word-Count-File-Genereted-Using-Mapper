{
  "nbformat": 4,
  "nbformat_minor": 0,
  "metadata": {
    "kernelspec": {
      "display_name": "Python 2",
      "language": "python",
      "name": "python2"
    },
    "language_info": {
      "codemirror_mode": {
        "name": "ipython",
        "version": 2
      },
      "file_extension": ".py",
      "mimetype": "text/x-python",
      "name": "python",
      "nbconvert_exporter": "python",
      "pygments_lexer": "ipython2",
      "version": "2.7.12"
    },
    "colab": {
      "name": "word_count.ipynb",
      "provenance": [],
      "include_colab_link": true
    }
  },
  "cells": [
    {
      "cell_type": "markdown",
      "metadata": {
        "id": "view-in-github",
        "colab_type": "text"
      },
      "source": [
        "<a href=\"https://colab.research.google.com/github/UjjS/UjjS/blob/main/word_count.ipynb\" target=\"_parent\"><img src=\"https://colab.research.google.com/assets/colab-badge.svg\" alt=\"Open In Colab\"/></a>"
      ]
    },
    {
      "cell_type": "markdown",
      "metadata": {
        "id": "jL93QOUVwIm0"
      },
      "source": [
        "## Word Count"
      ]
    },
    {
      "cell_type": "code",
      "metadata": {
        "id": "VMyAtGPYwIm2",
        "outputId": "48978af3-6e98-4d7a-f746-ef316811e68a"
      },
      "source": [
        "%%writefile mapper.py\n",
        "\n",
        "import sys\n",
        "import re\n",
        "\n",
        "reload(sys)\n",
        "sys.setdefaultencoding('utf-8') # required to convert to unicode\n",
        "\n",
        "for line in sys.stdin:\n",
        "    try:\n",
        "        article_id, text = unicode(line.strip()).split('\\t', 1)\n",
        "    except ValueError as e:\n",
        "        continue\n",
        "    words = re.split(\"\\W*\\s+\\W*\", text, flags=re.UNICODE)\n",
        "    for word in words:\n",
        "        print >> sys.stderr, \"reporter:counter:Wiki stats,Total words,%d\" % 1\n",
        "        print \"%s\\t%d\" % (word.lower(), 1)"
      ],
      "execution_count": null,
      "outputs": [
        {
          "output_type": "stream",
          "text": [
            "Writing mapper.py\n"
          ],
          "name": "stdout"
        }
      ]
    },
    {
      "cell_type": "code",
      "metadata": {
        "id": "5y9MM8RgwIm4",
        "outputId": "82e70370-402f-48f9-dea8-a10e77cb0b79"
      },
      "source": [
        "%%writefile reducer.py\n",
        "\n",
        "import sys\n",
        "\n",
        "current_key = None\n",
        "word_sum = 0"
      ],
      "execution_count": null,
      "outputs": [
        {
          "output_type": "stream",
          "text": [
            "Writing reducer.py\n"
          ],
          "name": "stdout"
        }
      ]
    },
    {
      "cell_type": "code",
      "metadata": {
        "id": "kdNutjH3wIm5",
        "outputId": "35e69f0c-f356-48bc-e4af-bfa06b5bd8df"
      },
      "source": [
        "%%writefile -a reducer.py\n",
        "\n",
        "for line in sys.stdin:\n",
        "    try:\n",
        "        key, count = line.strip().split('\\t', 1)\n",
        "        count = int(count)\n",
        "    except ValueError as e:\n",
        "        continue\n",
        "    if current_key != key:\n",
        "        if current_key:\n",
        "            print \"%s\\t%d\" % (current_key, word_sum)\n",
        "        word_sum = 0\n",
        "        current_key = key\n",
        "    word_sum += count\n",
        "\n",
        "if current_key:\n",
        "    print \"%s\\t%d\" % (current_key, word_sum)"
      ],
      "execution_count": null,
      "outputs": [
        {
          "output_type": "stream",
          "text": [
            "Appending to reducer.py\n"
          ],
          "name": "stdout"
        }
      ]
    },
    {
      "cell_type": "code",
      "metadata": {
        "id": "IPUkx0xywIm6",
        "outputId": "14d8a0a7-6e91-4473-bf7d-22cbaed05860"
      },
      "source": [
        "! hdfs dfs -ls /data/wiki"
      ],
      "execution_count": null,
      "outputs": [
        {
          "output_type": "stream",
          "text": [
            "Found 1 items\r\n",
            "drwxrwxrwx   - jovyan supergroup          0 2017-10-17 13:15 /data/wiki/en_articles_part\r\n"
          ],
          "name": "stdout"
        }
      ]
    },
    {
      "cell_type": "code",
      "metadata": {
        "id": "j5DLNVPQwIm6",
        "outputId": "2bc5a84f-56bb-48a3-8c4b-783722a07aaa"
      },
      "source": [
        "%%bash\n",
        "\n",
        "OUT_DIR=\"wordcount_result_\"$(date +\"%s%6N\")\n",
        "NUM_REDUCERS=8\n",
        "\n",
        "hdfs dfs -rm -r -skipTrash ${OUT_DIR} > /dev/null\n",
        "\n",
        "yarn jar /opt/cloudera/parcels/CDH/lib/hadoop-mapreduce/hadoop-streaming.jar \\\n",
        "    -D mapred.jab.name=\"Streaming wordCount\" \\\n",
        "    -D mapreduce.job.reduces=${NUM_REDUCERS} \\\n",
        "    -files mapper.py,reducer.py \\\n",
        "    -mapper \"python mapper.py\" \\\n",
        "    -combiner \"python reducer.py\" \\\n",
        "    -reducer \"python reducer.py\" \\\n",
        "    -input /data/wiki/en_articles_part \\\n",
        "    -output ${OUT_DIR} > /dev/null\n",
        "\n",
        "hdfs dfs -cat ${OUT_DIR}/part-00000 | head"
      ],
      "execution_count": null,
      "outputs": [
        {
          "output_type": "stream",
          "text": [
            "0%however\t1\n",
            "0&\\mathrm{if\t1\n",
            "0(8)320-1234\t1\n",
            "0)).(1\t2\n",
            "0,03\t1\n",
            "0,1,...,n\t1\n",
            "0,1,0\t1\n",
            "0,1,\\dots,n\t1\n",
            "0,5\t1\n",
            "0,50\t1\n"
          ],
          "name": "stdout"
        },
        {
          "output_type": "stream",
          "text": [
            "rm: `wordcount_result_1523514719718606': No such file or directory\n",
            "18/04/12 06:32:10 INFO client.RMProxy: Connecting to ResourceManager at /0.0.0.0:8032\n",
            "18/04/12 06:32:11 INFO client.RMProxy: Connecting to ResourceManager at /0.0.0.0:8032\n",
            "18/04/12 06:32:14 INFO mapred.FileInputFormat: Total input files to process : 1\n",
            "18/04/12 06:32:15 INFO mapreduce.JobSubmitter: number of splits:2\n",
            "18/04/12 06:32:15 INFO mapreduce.JobSubmitter: Submitting tokens for job: job_1523493172736_0001\n",
            "18/04/12 06:32:17 INFO impl.YarnClientImpl: Submitted application application_1523493172736_0001\n",
            "18/04/12 06:32:17 INFO mapreduce.Job: The url to track the job: http://df799ead6cff:8088/proxy/application_1523493172736_0001/\n",
            "18/04/12 06:32:17 INFO mapreduce.Job: Running job: job_1523493172736_0001\n",
            "18/04/12 06:32:38 INFO mapreduce.Job: Job job_1523493172736_0001 running in uber mode : false\n",
            "18/04/12 06:32:38 INFO mapreduce.Job:  map 0% reduce 0%\n",
            "18/04/12 06:33:07 INFO mapreduce.Job:  map 3% reduce 0%\n",
            "18/04/12 06:33:13 INFO mapreduce.Job:  map 4% reduce 0%\n",
            "18/04/12 06:33:14 INFO mapreduce.Job:  map 5% reduce 0%\n",
            "18/04/12 06:33:19 INFO mapreduce.Job:  map 7% reduce 0%\n",
            "18/04/12 06:33:26 INFO mapreduce.Job:  map 8% reduce 0%\n",
            "18/04/12 06:33:32 INFO mapreduce.Job:  map 10% reduce 0%\n",
            "18/04/12 06:33:38 INFO mapreduce.Job:  map 12% reduce 0%\n",
            "18/04/12 06:33:44 INFO mapreduce.Job:  map 13% reduce 0%\n",
            "18/04/12 06:33:50 INFO mapreduce.Job:  map 15% reduce 0%\n",
            "18/04/12 06:33:56 INFO mapreduce.Job:  map 16% reduce 0%\n",
            "18/04/12 06:34:02 INFO mapreduce.Job:  map 18% reduce 0%\n",
            "18/04/12 06:34:07 INFO mapreduce.Job:  map 19% reduce 0%\n",
            "18/04/12 06:34:08 INFO mapreduce.Job:  map 20% reduce 0%\n",
            "18/04/12 06:34:14 INFO mapreduce.Job:  map 21% reduce 0%\n",
            "18/04/12 06:34:20 INFO mapreduce.Job:  map 22% reduce 0%\n",
            "18/04/12 06:34:21 INFO mapreduce.Job:  map 23% reduce 0%\n",
            "18/04/12 06:34:26 INFO mapreduce.Job:  map 24% reduce 0%\n",
            "18/04/12 06:34:27 INFO mapreduce.Job:  map 25% reduce 0%\n",
            "18/04/12 06:34:32 INFO mapreduce.Job:  map 26% reduce 0%\n",
            "18/04/12 06:34:33 INFO mapreduce.Job:  map 27% reduce 0%\n",
            "18/04/12 06:34:38 INFO mapreduce.Job:  map 28% reduce 0%\n",
            "18/04/12 06:34:39 INFO mapreduce.Job:  map 29% reduce 0%\n",
            "18/04/12 06:34:44 INFO mapreduce.Job:  map 30% reduce 0%\n",
            "18/04/12 06:34:45 INFO mapreduce.Job:  map 31% reduce 0%\n",
            "18/04/12 06:34:50 INFO mapreduce.Job:  map 32% reduce 0%\n",
            "18/04/12 06:34:51 INFO mapreduce.Job:  map 33% reduce 0%\n",
            "18/04/12 06:34:56 INFO mapreduce.Job:  map 34% reduce 0%\n",
            "18/04/12 06:35:02 INFO mapreduce.Job:  map 36% reduce 0%\n",
            "18/04/12 06:35:08 INFO mapreduce.Job:  map 37% reduce 0%\n",
            "18/04/12 06:35:14 INFO mapreduce.Job:  map 38% reduce 0%\n",
            "18/04/12 06:35:21 INFO mapreduce.Job:  map 40% reduce 0%\n",
            "18/04/12 06:35:27 INFO mapreduce.Job:  map 41% reduce 0%\n",
            "18/04/12 06:35:33 INFO mapreduce.Job:  map 43% reduce 0%\n",
            "18/04/12 06:35:39 INFO mapreduce.Job:  map 44% reduce 0%\n",
            "18/04/12 06:35:45 INFO mapreduce.Job:  map 45% reduce 0%\n",
            "18/04/12 06:35:51 INFO mapreduce.Job:  map 46% reduce 0%\n",
            "18/04/12 06:36:03 INFO mapreduce.Job:  map 47% reduce 0%\n",
            "18/04/12 06:36:15 INFO mapreduce.Job:  map 48% reduce 0%\n",
            "18/04/12 06:36:21 INFO mapreduce.Job:  map 50% reduce 0%\n",
            "18/04/12 06:36:27 INFO mapreduce.Job:  map 52% reduce 0%\n",
            "18/04/12 06:36:33 INFO mapreduce.Job:  map 54% reduce 0%\n",
            "18/04/12 06:36:39 INFO mapreduce.Job:  map 56% reduce 0%\n",
            "18/04/12 06:36:45 INFO mapreduce.Job:  map 58% reduce 0%\n",
            "18/04/12 06:36:51 INFO mapreduce.Job:  map 60% reduce 0%\n",
            "18/04/12 06:36:58 INFO mapreduce.Job:  map 62% reduce 0%\n",
            "18/04/12 06:37:04 INFO mapreduce.Job:  map 63% reduce 0%\n",
            "18/04/12 06:37:10 INFO mapreduce.Job:  map 65% reduce 0%\n",
            "18/04/12 06:37:16 INFO mapreduce.Job:  map 66% reduce 0%\n",
            "18/04/12 06:37:22 INFO mapreduce.Job:  map 67% reduce 0%\n",
            "18/04/12 06:37:31 INFO mapreduce.Job:  map 83% reduce 0%\n",
            "18/04/12 06:37:58 INFO mapreduce.Job:  map 84% reduce 0%\n",
            "18/04/12 06:38:03 INFO mapreduce.Job:  map 100% reduce 0%\n",
            "18/04/12 06:38:21 INFO mapreduce.Job:  map 100% reduce 21%\n",
            "18/04/12 06:38:25 INFO mapreduce.Job:  map 100% reduce 22%\n",
            "18/04/12 06:38:26 INFO mapreduce.Job:  map 100% reduce 25%\n",
            "18/04/12 06:38:29 INFO mapreduce.Job:  map 100% reduce 35%\n",
            "18/04/12 06:38:31 INFO mapreduce.Job:  map 100% reduce 45%\n",
            "18/04/12 06:38:33 INFO mapreduce.Job:  map 100% reduce 48%\n",
            "18/04/12 06:38:35 INFO mapreduce.Job:  map 100% reduce 50%\n",
            "18/04/12 06:38:36 INFO mapreduce.Job:  map 100% reduce 61%\n",
            "18/04/12 06:38:39 INFO mapreduce.Job:  map 100% reduce 63%\n",
            "18/04/12 06:38:57 INFO mapreduce.Job:  map 100% reduce 75%\n",
            "18/04/12 06:39:04 INFO mapreduce.Job:  map 100% reduce 88%\n",
            "18/04/12 06:39:05 INFO mapreduce.Job:  map 100% reduce 100%\n",
            "18/04/12 06:39:06 INFO mapreduce.Job: Job job_1523493172736_0001 completed successfully\n",
            "18/04/12 06:39:06 INFO mapreduce.Job: Counters: 51\n",
            "\tFile System Counters\n",
            "\t\tFILE: Number of bytes read=17954826\n",
            "\t\tFILE: Number of bytes written=28258053\n",
            "\t\tFILE: Number of read operations=0\n",
            "\t\tFILE: Number of large read operations=0\n",
            "\t\tFILE: Number of write operations=0\n",
            "\t\tHDFS: Number of bytes read=76874501\n",
            "\t\tHDFS: Number of bytes written=5370513\n",
            "\t\tHDFS: Number of read operations=30\n",
            "\t\tHDFS: Number of large read operations=0\n",
            "\t\tHDFS: Number of write operations=16\n",
            "\tJob Counters \n",
            "\t\tKilled reduce tasks=3\n",
            "\t\tLaunched map tasks=2\n",
            "\t\tLaunched reduce tasks=11\n",
            "\t\tData-local map tasks=2\n",
            "\t\tTotal time spent by all maps in occupied slots (ms)=611905\n",
            "\t\tTotal time spent by all reduces in occupied slots (ms)=416552\n",
            "\t\tTotal time spent by all map tasks (ms)=611905\n",
            "\t\tTotal time spent by all reduce tasks (ms)=416552\n",
            "\t\tTotal vcore-milliseconds taken by all map tasks=611905\n",
            "\t\tTotal vcore-milliseconds taken by all reduce tasks=416552\n",
            "\t\tTotal megabyte-milliseconds taken by all map tasks=626590720\n",
            "\t\tTotal megabyte-milliseconds taken by all reduce tasks=426549248\n",
            "\tMap-Reduce Framework\n",
            "\t\tMap input records=4100\n",
            "\t\tMap output records=11937375\n",
            "\t\tMap output bytes=97842436\n",
            "\t\tMap output materialized bytes=8952763\n",
            "\t\tInput split bytes=228\n",
            "\t\tCombine input records=11937375\n",
            "\t\tCombine output records=640011\n",
            "\t\tReduce input groups=427175\n",
            "\t\tReduce shuffle bytes=8952763\n",
            "\t\tReduce input records=640011\n",
            "\t\tReduce output records=427175\n",
            "\t\tSpilled Records=1920033\n",
            "\t\tShuffled Maps =16\n",
            "\t\tFailed Shuffles=0\n",
            "\t\tMerged Map outputs=16\n",
            "\t\tGC time elapsed (ms)=9129\n",
            "\t\tCPU time spent (ms)=449050\n",
            "\t\tPhysical memory (bytes) snapshot=1903599616\n",
            "\t\tVirtual memory (bytes) snapshot=19568820224\n",
            "\t\tTotal committed heap usage (bytes)=1615855616\n",
            "\tShuffle Errors\n",
            "\t\tBAD_ID=0\n",
            "\t\tCONNECTION=0\n",
            "\t\tIO_ERROR=0\n",
            "\t\tWRONG_LENGTH=0\n",
            "\t\tWRONG_MAP=0\n",
            "\t\tWRONG_REDUCE=0\n",
            "\tWiki stats\n",
            "\t\tTotal words=11937375\n",
            "\tFile Input Format Counters \n",
            "\t\tBytes Read=76874273\n",
            "\tFile Output Format Counters \n",
            "\t\tBytes Written=5370513\n",
            "18/04/12 06:39:06 INFO streaming.StreamJob: Output directory: wordcount_result_1523514719718606\n",
            "cat: Unable to write to output stream.\n"
          ],
          "name": "stderr"
        }
      ]
    },
    {
      "cell_type": "code",
      "metadata": {
        "collapsed": true,
        "id": "VZwWAKpfwIm7"
      },
      "source": [
        ""
      ],
      "execution_count": null,
      "outputs": []
    }
  ]
}